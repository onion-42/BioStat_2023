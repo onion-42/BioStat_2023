{
 "cells": [
  {
   "cell_type": "markdown",
   "id": "ed4fcf38-c822-4231-9cc3-cfa990f92d0e",
   "metadata": {},
   "source": [
    "# Import"
   ]
  },
  {
   "cell_type": "code",
   "execution_count": 1,
   "id": "16d36570-d381-4130-9093-8841eab5eb8b",
   "metadata": {
    "execution": {
     "iopub.execute_input": "2024-01-14T12:05:00.243337Z",
     "iopub.status.busy": "2024-01-14T12:05:00.242681Z",
     "iopub.status.idle": "2024-01-14T12:05:02.412849Z",
     "shell.execute_reply": "2024-01-14T12:05:02.412076Z",
     "shell.execute_reply.started": "2024-01-14T12:05:00.243203Z"
    }
   },
   "outputs": [],
   "source": [
    "import pandas as pd\n",
    "import numpy as np\n",
    "import pickle\n",
    "import os\n",
    "from pathlib import Path\n",
    "from tqdm import tqdm\n",
    "import seaborn as sns\n",
    "import matplotlib.pyplot as plt\n",
    "import warnings\n",
    "\n",
    "from bioreactor.plotting import *\n",
    "from bioreactor.utils import *\n",
    "from bioreactor.ssgsea import *\n",
    "from bioreactor.gsea import *\n",
    "from bioreactor.annotation import *\n",
    "from bioreactor.survival import *\n",
    "\n",
    "warnings.filterwarnings('ignore')\n",
    "%config InlineBackend.figure_format = 'png'\n",
    "plt.rcParams['pdf.fonttype'] = 'truetype'\n",
    "plt.rcParams['svg.fonttype'] = 'none'\n",
    "plt.rcParams['figure.dpi'] = 120\n",
    "sns.set_style('ticks')\n",
    "\n",
    "\n",
    "%load_ext autoreload\n",
    "%autoreload 2\n",
    "%matplotlib inline\n",
    "%config IPCompleter.use_jedi = False"
   ]
  },
  {
   "cell_type": "code",
   "execution_count": 2,
   "id": "a1611fd2-8a0f-46ad-bfaa-a930752c7ffc",
   "metadata": {
    "execution": {
     "iopub.execute_input": "2024-01-14T12:05:16.177380Z",
     "iopub.status.busy": "2024-01-14T12:05:16.176897Z",
     "iopub.status.idle": "2024-01-14T12:05:16.202622Z",
     "shell.execute_reply": "2024-01-14T12:05:16.201947Z",
     "shell.execute_reply.started": "2024-01-14T12:05:16.177357Z"
    }
   },
   "outputs": [
    {
     "data": {
      "text/plain": [
       "['.~lock.ADaM spec.xlsx#',\n",
       " 'ADSL.xlsx',\n",
       " 'ADaM spec.xlsx',\n",
       " 'adae_construction.qmd',\n",
       " 'adams construction.Rproj',\n",
       " 'dm_lecture.qmd',\n",
       " 'images',\n",
       " 'sdtm-like files',\n",
       " '.ipynb_checkpoints',\n",
       " 'adae.ipynb']"
      ]
     },
     "execution_count": 2,
     "metadata": {},
     "output_type": "execute_result"
    }
   ],
   "source": [
    "os.listdir(os.getcwd())"
   ]
  },
  {
   "cell_type": "markdown",
   "id": "56eb4e64-09fa-4e24-ad9b-902eed0ae57f",
   "metadata": {},
   "source": [
    "# Data"
   ]
  },
  {
   "cell_type": "code",
   "execution_count": 4,
   "id": "2d84dbd9-5c65-4803-9f40-c02c753d6df5",
   "metadata": {
    "execution": {
     "iopub.execute_input": "2024-01-14T12:06:57.898917Z",
     "iopub.status.busy": "2024-01-14T12:06:57.898530Z",
     "iopub.status.idle": "2024-01-14T12:06:57.944950Z",
     "shell.execute_reply": "2024-01-14T12:06:57.944416Z",
     "shell.execute_reply.started": "2024-01-14T12:06:57.898890Z"
    }
   },
   "outputs": [
    {
     "data": {
      "text/html": [
       "<div>\n",
       "<style scoped>\n",
       "    .dataframe tbody tr th:only-of-type {\n",
       "        vertical-align: middle;\n",
       "    }\n",
       "\n",
       "    .dataframe tbody tr th {\n",
       "        vertical-align: top;\n",
       "    }\n",
       "\n",
       "    .dataframe thead th {\n",
       "        text-align: right;\n",
       "    }\n",
       "</style>\n",
       "<table border=\"1\" class=\"dataframe\">\n",
       "  <thead>\n",
       "    <tr style=\"text-align: right;\">\n",
       "      <th></th>\n",
       "      <th>STUDYID</th>\n",
       "      <th>SUBJID</th>\n",
       "      <th>USUBJID</th>\n",
       "      <th>SITEID</th>\n",
       "      <th>RANDID</th>\n",
       "      <th>TRTSEQP</th>\n",
       "      <th>TRTSEQPN</th>\n",
       "      <th>TRT01P</th>\n",
       "      <th>TRT01PN</th>\n",
       "      <th>TRT02P</th>\n",
       "      <th>...</th>\n",
       "      <th>SMOKDC</th>\n",
       "      <th>ALCCDC</th>\n",
       "      <th>DOREAS</th>\n",
       "      <th>ECREAS</th>\n",
       "      <th>DOREASPP</th>\n",
       "      <th>DOREASSAF</th>\n",
       "      <th>RANDFL</th>\n",
       "      <th>PPROTFL</th>\n",
       "      <th>SAFFL</th>\n",
       "      <th>COMPLFL</th>\n",
       "    </tr>\n",
       "  </thead>\n",
       "  <tbody>\n",
       "    <tr>\n",
       "      <th>0</th>\n",
       "      <td>XXXXX-XX-XX</td>\n",
       "      <td>9005</td>\n",
       "      <td>XXXXX-XX-XX-09005</td>\n",
       "      <td>9</td>\n",
       "      <td>5.0</td>\n",
       "      <td>RT</td>\n",
       "      <td>2.0</td>\n",
       "      <td>drug2</td>\n",
       "      <td>2.0</td>\n",
       "      <td>drug1</td>\n",
       "      <td>...</td>\n",
       "      <td>Нет</td>\n",
       "      <td>Употреблял ранее</td>\n",
       "      <td>NaN</td>\n",
       "      <td>NaN</td>\n",
       "      <td>NaN</td>\n",
       "      <td>NaN</td>\n",
       "      <td>Y</td>\n",
       "      <td>Y</td>\n",
       "      <td>Y</td>\n",
       "      <td>Y</td>\n",
       "    </tr>\n",
       "    <tr>\n",
       "      <th>1</th>\n",
       "      <td>XXXXX-XX-XX</td>\n",
       "      <td>9006</td>\n",
       "      <td>XXXXX-XX-XX-09006</td>\n",
       "      <td>9</td>\n",
       "      <td>6.0</td>\n",
       "      <td>RT</td>\n",
       "      <td>2.0</td>\n",
       "      <td>drug2</td>\n",
       "      <td>2.0</td>\n",
       "      <td>drug1</td>\n",
       "      <td>...</td>\n",
       "      <td>Нет</td>\n",
       "      <td>Да</td>\n",
       "      <td>NaN</td>\n",
       "      <td>NaN</td>\n",
       "      <td>NaN</td>\n",
       "      <td>NaN</td>\n",
       "      <td>Y</td>\n",
       "      <td>Y</td>\n",
       "      <td>Y</td>\n",
       "      <td>Y</td>\n",
       "    </tr>\n",
       "    <tr>\n",
       "      <th>2</th>\n",
       "      <td>XXXXX-XX-XX</td>\n",
       "      <td>9007</td>\n",
       "      <td>XXXXX-XX-XX-09007</td>\n",
       "      <td>9</td>\n",
       "      <td>7.0</td>\n",
       "      <td>TR</td>\n",
       "      <td>1.0</td>\n",
       "      <td>drug1</td>\n",
       "      <td>1.0</td>\n",
       "      <td>drug2</td>\n",
       "      <td>...</td>\n",
       "      <td>Нет</td>\n",
       "      <td>Нет</td>\n",
       "      <td>NaN</td>\n",
       "      <td>NaN</td>\n",
       "      <td>NaN</td>\n",
       "      <td>NaN</td>\n",
       "      <td>Y</td>\n",
       "      <td>Y</td>\n",
       "      <td>Y</td>\n",
       "      <td>Y</td>\n",
       "    </tr>\n",
       "    <tr>\n",
       "      <th>3</th>\n",
       "      <td>XXXXX-XX-XX</td>\n",
       "      <td>9008</td>\n",
       "      <td>XXXXX-XX-XX-09008</td>\n",
       "      <td>9</td>\n",
       "      <td>8.0</td>\n",
       "      <td>RT</td>\n",
       "      <td>2.0</td>\n",
       "      <td>drug2</td>\n",
       "      <td>2.0</td>\n",
       "      <td>drug1</td>\n",
       "      <td>...</td>\n",
       "      <td>Нет</td>\n",
       "      <td>Нет</td>\n",
       "      <td>NaN</td>\n",
       "      <td>Случай НЯ</td>\n",
       "      <td>Выбыл из исследования</td>\n",
       "      <td>NaN</td>\n",
       "      <td>Y</td>\n",
       "      <td>N</td>\n",
       "      <td>Y</td>\n",
       "      <td>N</td>\n",
       "    </tr>\n",
       "    <tr>\n",
       "      <th>4</th>\n",
       "      <td>XXXXX-XX-XX</td>\n",
       "      <td>9009</td>\n",
       "      <td>XXXXX-XX-XX-09009</td>\n",
       "      <td>9</td>\n",
       "      <td>NaN</td>\n",
       "      <td>NaN</td>\n",
       "      <td>NaN</td>\n",
       "      <td>NaN</td>\n",
       "      <td>NaN</td>\n",
       "      <td>NaN</td>\n",
       "      <td>...</td>\n",
       "      <td>Не известно</td>\n",
       "      <td>Не известно</td>\n",
       "      <td>Несоответствие критериям включения/невключения</td>\n",
       "      <td>NaN</td>\n",
       "      <td>Выбыл из исследования</td>\n",
       "      <td>NaN</td>\n",
       "      <td>N</td>\n",
       "      <td>N</td>\n",
       "      <td>N</td>\n",
       "      <td>N</td>\n",
       "    </tr>\n",
       "  </tbody>\n",
       "</table>\n",
       "<p>5 rows × 43 columns</p>\n",
       "</div>"
      ],
      "text/plain": [
       "       STUDYID  SUBJID            USUBJID  SITEID  RANDID TRTSEQP  TRTSEQPN  \\\n",
       "0  XXXXX-XX-XX    9005  XXXXX-XX-XX-09005       9     5.0      RT       2.0   \n",
       "1  XXXXX-XX-XX    9006  XXXXX-XX-XX-09006       9     6.0      RT       2.0   \n",
       "2  XXXXX-XX-XX    9007  XXXXX-XX-XX-09007       9     7.0      TR       1.0   \n",
       "3  XXXXX-XX-XX    9008  XXXXX-XX-XX-09008       9     8.0      RT       2.0   \n",
       "4  XXXXX-XX-XX    9009  XXXXX-XX-XX-09009       9     NaN     NaN       NaN   \n",
       "\n",
       "  TRT01P  TRT01PN TRT02P  ...       SMOKDC            ALCCDC  \\\n",
       "0  drug2      2.0  drug1  ...          Нет  Употреблял ранее   \n",
       "1  drug2      2.0  drug1  ...          Нет                Да   \n",
       "2  drug1      1.0  drug2  ...          Нет               Нет   \n",
       "3  drug2      2.0  drug1  ...          Нет               Нет   \n",
       "4    NaN      NaN    NaN  ...  Не известно       Не известно   \n",
       "\n",
       "                                           DOREAS     ECREAS  \\\n",
       "0                                             NaN        NaN   \n",
       "1                                             NaN        NaN   \n",
       "2                                             NaN        NaN   \n",
       "3                                             NaN  Случай НЯ   \n",
       "4  Несоответствие критериям включения/невключения        NaN   \n",
       "\n",
       "                DOREASPP DOREASSAF RANDFL PPROTFL SAFFL COMPLFL  \n",
       "0                    NaN       NaN      Y       Y     Y       Y  \n",
       "1                    NaN       NaN      Y       Y     Y       Y  \n",
       "2                    NaN       NaN      Y       Y     Y       Y  \n",
       "3  Выбыл из исследования       NaN      Y       N     Y       N  \n",
       "4  Выбыл из исследования       NaN      N       N     N       N  \n",
       "\n",
       "[5 rows x 43 columns]"
      ]
     },
     "execution_count": 4,
     "metadata": {},
     "output_type": "execute_result"
    }
   ],
   "source": [
    "adsl = pd.read_excel('ADSL.xlsx')\n",
    "adsl"
   ]
  },
  {
   "cell_type": "code",
   "execution_count": 6,
   "id": "ae9d778e-de9c-4b6c-b6eb-93cc0dc8ef5e",
   "metadata": {
    "execution": {
     "iopub.execute_input": "2024-01-14T12:07:49.622299Z",
     "iopub.status.busy": "2024-01-14T12:07:49.621467Z",
     "iopub.status.idle": "2024-01-14T12:07:51.420289Z",
     "shell.execute_reply": "2024-01-14T12:07:51.419365Z",
     "shell.execute_reply.started": "2024-01-14T12:07:49.622227Z"
    }
   },
   "outputs": [
    {
     "name": "stdin",
     "output_type": "stream",
     "text": [
      " STUDYID SUBJID USUBJID SITEID TRTSEQP TRTSEQPN AP01SDT AP01EDT AP02SDT AP02EDT\n"
     ]
    },
    {
     "data": {
      "text/plain": [
       "['STUDYID',\n",
       " 'SUBJID',\n",
       " 'USUBJID',\n",
       " 'SITEID',\n",
       " 'TRTSEQP',\n",
       " 'TRTSEQPN',\n",
       " 'AP01SDT',\n",
       " 'AP01EDT',\n",
       " 'AP02SDT',\n",
       " 'AP02EDT']"
      ]
     },
     "execution_count": 6,
     "metadata": {},
     "output_type": "execute_result"
    }
   ],
   "source": [
    "input().split()"
   ]
  },
  {
   "cell_type": "code",
   "execution_count": 7,
   "id": "1d9cde8e-e845-4212-80aa-3f0ee8ec55ac",
   "metadata": {
    "execution": {
     "iopub.execute_input": "2024-01-14T12:08:07.174663Z",
     "iopub.status.busy": "2024-01-14T12:08:07.174066Z",
     "iopub.status.idle": "2024-01-14T12:08:07.580628Z",
     "shell.execute_reply": "2024-01-14T12:08:07.579262Z",
     "shell.execute_reply.started": "2024-01-14T12:08:07.174612Z"
    }
   },
   "outputs": [],
   "source": [
    "adae = {}"
   ]
  },
  {
   "cell_type": "code",
   "execution_count": 8,
   "id": "7d30c8ed-9a91-491d-8f30-4a0a5691f808",
   "metadata": {
    "execution": {
     "iopub.execute_input": "2024-01-14T12:08:23.637606Z",
     "iopub.status.busy": "2024-01-14T12:08:23.637000Z",
     "iopub.status.idle": "2024-01-14T12:08:23.690585Z",
     "shell.execute_reply": "2024-01-14T12:08:23.689811Z",
     "shell.execute_reply.started": "2024-01-14T12:08:23.637556Z"
    }
   },
   "outputs": [],
   "source": [
    "for col in ['STUDYID',\n",
    " 'SUBJID',\n",
    " 'USUBJID',\n",
    " 'SITEID',\n",
    " 'TRTSEQP',\n",
    " 'TRTSEQPN',\n",
    " 'AP01SDT',\n",
    " 'AP01EDT',\n",
    " 'AP02SDT',\n",
    " 'AP02EDT']:\n",
    "     adae[col] = adsl[col]"
   ]
  },
  {
   "cell_type": "code",
   "execution_count": 14,
   "id": "70a04ca9-b45b-460f-92c1-6faf6265df97",
   "metadata": {
    "execution": {
     "iopub.execute_input": "2024-01-14T12:11:24.832115Z",
     "iopub.status.busy": "2024-01-14T12:11:24.831203Z",
     "iopub.status.idle": "2024-01-14T12:11:24.865904Z",
     "shell.execute_reply": "2024-01-14T12:11:24.863636Z",
     "shell.execute_reply.started": "2024-01-14T12:11:24.832067Z"
    }
   },
   "outputs": [
    {
     "ename": "FileNotFoundError",
     "evalue": "[Errno 2] No such file or directory: '/home/jovyan/projects/Biostat/BioStat_2023/Data_control/adams_construcion/stdm_files/AE_ADVERSEEVENTS.xlsx'",
     "output_type": "error",
     "traceback": [
      "\u001b[0;31m---------------------------------------------------------------------------\u001b[0m",
      "\u001b[0;31mFileNotFoundError\u001b[0m                         Traceback (most recent call last)",
      "\u001b[0;32m/tmp/ipykernel_261/3139963030.py\u001b[0m in \u001b[0;36m<cell line: 1>\u001b[0;34m()\u001b[0m\n\u001b[0;32m----> 1\u001b[0;31m \u001b[0mae\u001b[0m \u001b[0;34m=\u001b[0m \u001b[0mpd\u001b[0m\u001b[0;34m.\u001b[0m\u001b[0mread_excel\u001b[0m\u001b[0;34m(\u001b[0m\u001b[0;34m'/home/jovyan/projects/Biostat/BioStat_2023/Data_control/adams_construcion/stdm_files/AE_ADVERSEEVENTS.xlsx'\u001b[0m\u001b[0;34m)\u001b[0m\u001b[0;34m\u001b[0m\u001b[0;34m\u001b[0m\u001b[0m\n\u001b[0m",
      "\u001b[0;32m~/venvs/default/lib/python3.9/site-packages/pandas/io/excel/_base.py\u001b[0m in \u001b[0;36mread_excel\u001b[0;34m(io, sheet_name, header, names, index_col, usecols, dtype, engine, converters, true_values, false_values, skiprows, nrows, na_values, keep_default_na, na_filter, verbose, parse_dates, date_parser, date_format, thousands, decimal, comment, skipfooter, storage_options, dtype_backend, engine_kwargs)\u001b[0m\n\u001b[1;32m    502\u001b[0m     \u001b[0;32mif\u001b[0m \u001b[0;32mnot\u001b[0m \u001b[0misinstance\u001b[0m\u001b[0;34m(\u001b[0m\u001b[0mio\u001b[0m\u001b[0;34m,\u001b[0m \u001b[0mExcelFile\u001b[0m\u001b[0;34m)\u001b[0m\u001b[0;34m:\u001b[0m\u001b[0;34m\u001b[0m\u001b[0;34m\u001b[0m\u001b[0m\n\u001b[1;32m    503\u001b[0m         \u001b[0mshould_close\u001b[0m \u001b[0;34m=\u001b[0m \u001b[0;32mTrue\u001b[0m\u001b[0;34m\u001b[0m\u001b[0;34m\u001b[0m\u001b[0m\n\u001b[0;32m--> 504\u001b[0;31m         io = ExcelFile(\n\u001b[0m\u001b[1;32m    505\u001b[0m             \u001b[0mio\u001b[0m\u001b[0;34m,\u001b[0m\u001b[0;34m\u001b[0m\u001b[0;34m\u001b[0m\u001b[0m\n\u001b[1;32m    506\u001b[0m             \u001b[0mstorage_options\u001b[0m\u001b[0;34m=\u001b[0m\u001b[0mstorage_options\u001b[0m\u001b[0;34m,\u001b[0m\u001b[0;34m\u001b[0m\u001b[0;34m\u001b[0m\u001b[0m\n",
      "\u001b[0;32m~/venvs/default/lib/python3.9/site-packages/pandas/io/excel/_base.py\u001b[0m in \u001b[0;36m__init__\u001b[0;34m(self, path_or_buffer, engine, storage_options, engine_kwargs)\u001b[0m\n\u001b[1;32m   1561\u001b[0m                 \u001b[0mext\u001b[0m \u001b[0;34m=\u001b[0m \u001b[0;34m\"xls\"\u001b[0m\u001b[0;34m\u001b[0m\u001b[0;34m\u001b[0m\u001b[0m\n\u001b[1;32m   1562\u001b[0m             \u001b[0;32melse\u001b[0m\u001b[0;34m:\u001b[0m\u001b[0;34m\u001b[0m\u001b[0;34m\u001b[0m\u001b[0m\n\u001b[0;32m-> 1563\u001b[0;31m                 ext = inspect_excel_format(\n\u001b[0m\u001b[1;32m   1564\u001b[0m                     \u001b[0mcontent_or_path\u001b[0m\u001b[0;34m=\u001b[0m\u001b[0mpath_or_buffer\u001b[0m\u001b[0;34m,\u001b[0m \u001b[0mstorage_options\u001b[0m\u001b[0;34m=\u001b[0m\u001b[0mstorage_options\u001b[0m\u001b[0;34m\u001b[0m\u001b[0;34m\u001b[0m\u001b[0m\n\u001b[1;32m   1565\u001b[0m                 )\n",
      "\u001b[0;32m~/venvs/default/lib/python3.9/site-packages/pandas/io/excel/_base.py\u001b[0m in \u001b[0;36minspect_excel_format\u001b[0;34m(content_or_path, storage_options)\u001b[0m\n\u001b[1;32m   1417\u001b[0m         \u001b[0mcontent_or_path\u001b[0m \u001b[0;34m=\u001b[0m \u001b[0mBytesIO\u001b[0m\u001b[0;34m(\u001b[0m\u001b[0mcontent_or_path\u001b[0m\u001b[0;34m)\u001b[0m\u001b[0;34m\u001b[0m\u001b[0;34m\u001b[0m\u001b[0m\n\u001b[1;32m   1418\u001b[0m \u001b[0;34m\u001b[0m\u001b[0m\n\u001b[0;32m-> 1419\u001b[0;31m     with get_handle(\n\u001b[0m\u001b[1;32m   1420\u001b[0m         \u001b[0mcontent_or_path\u001b[0m\u001b[0;34m,\u001b[0m \u001b[0;34m\"rb\"\u001b[0m\u001b[0;34m,\u001b[0m \u001b[0mstorage_options\u001b[0m\u001b[0;34m=\u001b[0m\u001b[0mstorage_options\u001b[0m\u001b[0;34m,\u001b[0m \u001b[0mis_text\u001b[0m\u001b[0;34m=\u001b[0m\u001b[0;32mFalse\u001b[0m\u001b[0;34m\u001b[0m\u001b[0;34m\u001b[0m\u001b[0m\n\u001b[1;32m   1421\u001b[0m     ) as handle:\n",
      "\u001b[0;32m~/venvs/default/lib/python3.9/site-packages/pandas/io/common.py\u001b[0m in \u001b[0;36mget_handle\u001b[0;34m(path_or_buf, mode, encoding, compression, memory_map, is_text, errors, storage_options)\u001b[0m\n\u001b[1;32m    870\u001b[0m         \u001b[0;32melse\u001b[0m\u001b[0;34m:\u001b[0m\u001b[0;34m\u001b[0m\u001b[0;34m\u001b[0m\u001b[0m\n\u001b[1;32m    871\u001b[0m             \u001b[0;31m# Binary mode\u001b[0m\u001b[0;34m\u001b[0m\u001b[0;34m\u001b[0m\u001b[0m\n\u001b[0;32m--> 872\u001b[0;31m             \u001b[0mhandle\u001b[0m \u001b[0;34m=\u001b[0m \u001b[0mopen\u001b[0m\u001b[0;34m(\u001b[0m\u001b[0mhandle\u001b[0m\u001b[0;34m,\u001b[0m \u001b[0mioargs\u001b[0m\u001b[0;34m.\u001b[0m\u001b[0mmode\u001b[0m\u001b[0;34m)\u001b[0m\u001b[0;34m\u001b[0m\u001b[0;34m\u001b[0m\u001b[0m\n\u001b[0m\u001b[1;32m    873\u001b[0m         \u001b[0mhandles\u001b[0m\u001b[0;34m.\u001b[0m\u001b[0mappend\u001b[0m\u001b[0;34m(\u001b[0m\u001b[0mhandle\u001b[0m\u001b[0;34m)\u001b[0m\u001b[0;34m\u001b[0m\u001b[0;34m\u001b[0m\u001b[0m\n\u001b[1;32m    874\u001b[0m \u001b[0;34m\u001b[0m\u001b[0m\n",
      "\u001b[0;31mFileNotFoundError\u001b[0m: [Errno 2] No such file or directory: '/home/jovyan/projects/Biostat/BioStat_2023/Data_control/adams_construcion/stdm_files/AE_ADVERSEEVENTS.xlsx'"
     ]
    }
   ],
   "source": [
    "ae = pd.read_excel('/home/jovyan/projects/Biostat/BioStat_2023/Data_control/adams_construcion/sdtm_files/AE')"
   ]
  },
  {
   "cell_type": "code",
   "execution_count": null,
   "id": "69c9f2cf-5a9a-4070-b469-1f8956046695",
   "metadata": {},
   "outputs": [],
   "source": [
    "/home/jovyan/projects/Biostat/BioStat_2023/Data_control/adams_construcion/sdtm_files/AE"
   ]
  },
  {
   "cell_type": "code",
   "execution_count": null,
   "id": "23e88390-5c13-48b0-a51c-945c8c50b161",
   "metadata": {},
   "outputs": [],
   "source": []
  }
 ],
 "metadata": {
  "kernelspec": {
   "display_name": "default",
   "language": "python",
   "name": "default"
  },
  "language_info": {
   "codemirror_mode": {
    "name": "ipython",
    "version": 3
   },
   "file_extension": ".py",
   "mimetype": "text/x-python",
   "name": "python",
   "nbconvert_exporter": "python",
   "pygments_lexer": "ipython3",
   "version": "3.9.13"
  }
 },
 "nbformat": 4,
 "nbformat_minor": 5
}
