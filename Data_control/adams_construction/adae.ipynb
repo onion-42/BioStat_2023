{
 "cells": [
  {
   "cell_type": "markdown",
   "id": "ed4fcf38-c822-4231-9cc3-cfa990f92d0e",
   "metadata": {},
   "source": [
    "# Import"
   ]
  },
  {
   "cell_type": "code",
   "execution_count": 102,
   "id": "16d36570-d381-4130-9093-8841eab5eb8b",
   "metadata": {
    "execution": {
     "iopub.execute_input": "2024-01-14T16:31:01.694007Z",
     "iopub.status.busy": "2024-01-14T16:31:01.693594Z",
     "iopub.status.idle": "2024-01-14T16:31:01.974325Z",
     "shell.execute_reply": "2024-01-14T16:31:01.973421Z",
     "shell.execute_reply.started": "2024-01-14T16:31:01.693982Z"
    }
   },
   "outputs": [
    {
     "name": "stdout",
     "output_type": "stream",
     "text": [
      "The autoreload extension is already loaded. To reload it, use:\n",
      "  %reload_ext autoreload\n"
     ]
    }
   ],
   "source": [
    "import pandas as pd\n",
    "import numpy as np\n",
    "import os\n",
    "from pathlib import Path\n",
    "\n",
    "%load_ext autoreload\n",
    "%autoreload 2\n",
    "%matplotlib inline\n",
    "%config IPCompleter.use_jedi = False"
   ]
  },
  {
   "cell_type": "code",
   "execution_count": 103,
   "id": "a1611fd2-8a0f-46ad-bfaa-a930752c7ffc",
   "metadata": {
    "execution": {
     "iopub.execute_input": "2024-01-14T16:31:02.572709Z",
     "iopub.status.busy": "2024-01-14T16:31:02.572239Z",
     "iopub.status.idle": "2024-01-14T16:31:02.589802Z",
     "shell.execute_reply": "2024-01-14T16:31:02.589080Z",
     "shell.execute_reply.started": "2024-01-14T16:31:02.572678Z"
    }
   },
   "outputs": [
    {
     "data": {
      "text/plain": [
       "['.~lock.ADaM spec.xlsx#',\n",
       " 'ADSL.xlsx',\n",
       " 'ADaM spec.xlsx',\n",
       " 'adae_construction.qmd',\n",
       " 'adams construction.Rproj',\n",
       " 'dm_lecture.qmd',\n",
       " 'images',\n",
       " 'sdtm_files',\n",
       " '.ipynb_checkpoints',\n",
       " 'adae.ipynb']"
      ]
     },
     "execution_count": 103,
     "metadata": {},
     "output_type": "execute_result"
    }
   ],
   "source": [
    "os.listdir(os.getcwd())"
   ]
  },
  {
   "cell_type": "markdown",
   "id": "56eb4e64-09fa-4e24-ad9b-902eed0ae57f",
   "metadata": {},
   "source": [
    "# Data"
   ]
  },
  {
   "cell_type": "code",
   "execution_count": 104,
   "id": "2d84dbd9-5c65-4803-9f40-c02c753d6df5",
   "metadata": {
    "execution": {
     "iopub.execute_input": "2024-01-14T16:31:03.882378Z",
     "iopub.status.busy": "2024-01-14T16:31:03.881754Z",
     "iopub.status.idle": "2024-01-14T16:31:03.935582Z",
     "shell.execute_reply": "2024-01-14T16:31:03.934758Z",
     "shell.execute_reply.started": "2024-01-14T16:31:03.882328Z"
    }
   },
   "outputs": [
    {
     "data": {
      "text/html": [
       "<div>\n",
       "<style scoped>\n",
       "    .dataframe tbody tr th:only-of-type {\n",
       "        vertical-align: middle;\n",
       "    }\n",
       "\n",
       "    .dataframe tbody tr th {\n",
       "        vertical-align: top;\n",
       "    }\n",
       "\n",
       "    .dataframe thead th {\n",
       "        text-align: right;\n",
       "    }\n",
       "</style>\n",
       "<table border=\"1\" class=\"dataframe\">\n",
       "  <thead>\n",
       "    <tr style=\"text-align: right;\">\n",
       "      <th></th>\n",
       "      <th>STUDYID</th>\n",
       "      <th>SUBJID</th>\n",
       "      <th>USUBJID</th>\n",
       "      <th>SITEID</th>\n",
       "      <th>RANDID</th>\n",
       "      <th>TRTSEQP</th>\n",
       "      <th>TRTSEQPN</th>\n",
       "      <th>TRT01P</th>\n",
       "      <th>TRT01PN</th>\n",
       "      <th>TRT02P</th>\n",
       "      <th>...</th>\n",
       "      <th>SMOKDC</th>\n",
       "      <th>ALCCDC</th>\n",
       "      <th>DOREAS</th>\n",
       "      <th>ECREAS</th>\n",
       "      <th>DOREASPP</th>\n",
       "      <th>DOREASSAF</th>\n",
       "      <th>RANDFL</th>\n",
       "      <th>PPROTFL</th>\n",
       "      <th>SAFFL</th>\n",
       "      <th>COMPLFL</th>\n",
       "    </tr>\n",
       "  </thead>\n",
       "  <tbody>\n",
       "    <tr>\n",
       "      <th>0</th>\n",
       "      <td>XXXXX-XX-XX</td>\n",
       "      <td>9005</td>\n",
       "      <td>XXXXX-XX-XX-09005</td>\n",
       "      <td>9</td>\n",
       "      <td>5.0</td>\n",
       "      <td>RT</td>\n",
       "      <td>2.0</td>\n",
       "      <td>drug2</td>\n",
       "      <td>2.0</td>\n",
       "      <td>drug1</td>\n",
       "      <td>...</td>\n",
       "      <td>Нет</td>\n",
       "      <td>Употреблял ранее</td>\n",
       "      <td>NaN</td>\n",
       "      <td>NaN</td>\n",
       "      <td>NaN</td>\n",
       "      <td>NaN</td>\n",
       "      <td>Y</td>\n",
       "      <td>Y</td>\n",
       "      <td>Y</td>\n",
       "      <td>Y</td>\n",
       "    </tr>\n",
       "    <tr>\n",
       "      <th>1</th>\n",
       "      <td>XXXXX-XX-XX</td>\n",
       "      <td>9006</td>\n",
       "      <td>XXXXX-XX-XX-09006</td>\n",
       "      <td>9</td>\n",
       "      <td>6.0</td>\n",
       "      <td>RT</td>\n",
       "      <td>2.0</td>\n",
       "      <td>drug2</td>\n",
       "      <td>2.0</td>\n",
       "      <td>drug1</td>\n",
       "      <td>...</td>\n",
       "      <td>Нет</td>\n",
       "      <td>Да</td>\n",
       "      <td>NaN</td>\n",
       "      <td>NaN</td>\n",
       "      <td>NaN</td>\n",
       "      <td>NaN</td>\n",
       "      <td>Y</td>\n",
       "      <td>Y</td>\n",
       "      <td>Y</td>\n",
       "      <td>Y</td>\n",
       "    </tr>\n",
       "    <tr>\n",
       "      <th>2</th>\n",
       "      <td>XXXXX-XX-XX</td>\n",
       "      <td>9007</td>\n",
       "      <td>XXXXX-XX-XX-09007</td>\n",
       "      <td>9</td>\n",
       "      <td>7.0</td>\n",
       "      <td>TR</td>\n",
       "      <td>1.0</td>\n",
       "      <td>drug1</td>\n",
       "      <td>1.0</td>\n",
       "      <td>drug2</td>\n",
       "      <td>...</td>\n",
       "      <td>Нет</td>\n",
       "      <td>Нет</td>\n",
       "      <td>NaN</td>\n",
       "      <td>NaN</td>\n",
       "      <td>NaN</td>\n",
       "      <td>NaN</td>\n",
       "      <td>Y</td>\n",
       "      <td>Y</td>\n",
       "      <td>Y</td>\n",
       "      <td>Y</td>\n",
       "    </tr>\n",
       "    <tr>\n",
       "      <th>3</th>\n",
       "      <td>XXXXX-XX-XX</td>\n",
       "      <td>9008</td>\n",
       "      <td>XXXXX-XX-XX-09008</td>\n",
       "      <td>9</td>\n",
       "      <td>8.0</td>\n",
       "      <td>RT</td>\n",
       "      <td>2.0</td>\n",
       "      <td>drug2</td>\n",
       "      <td>2.0</td>\n",
       "      <td>drug1</td>\n",
       "      <td>...</td>\n",
       "      <td>Нет</td>\n",
       "      <td>Нет</td>\n",
       "      <td>NaN</td>\n",
       "      <td>Случай НЯ</td>\n",
       "      <td>Выбыл из исследования</td>\n",
       "      <td>NaN</td>\n",
       "      <td>Y</td>\n",
       "      <td>N</td>\n",
       "      <td>Y</td>\n",
       "      <td>N</td>\n",
       "    </tr>\n",
       "    <tr>\n",
       "      <th>4</th>\n",
       "      <td>XXXXX-XX-XX</td>\n",
       "      <td>9009</td>\n",
       "      <td>XXXXX-XX-XX-09009</td>\n",
       "      <td>9</td>\n",
       "      <td>NaN</td>\n",
       "      <td>NaN</td>\n",
       "      <td>NaN</td>\n",
       "      <td>NaN</td>\n",
       "      <td>NaN</td>\n",
       "      <td>NaN</td>\n",
       "      <td>...</td>\n",
       "      <td>Не известно</td>\n",
       "      <td>Не известно</td>\n",
       "      <td>Несоответствие критериям включения/невключения</td>\n",
       "      <td>NaN</td>\n",
       "      <td>Выбыл из исследования</td>\n",
       "      <td>NaN</td>\n",
       "      <td>N</td>\n",
       "      <td>N</td>\n",
       "      <td>N</td>\n",
       "      <td>N</td>\n",
       "    </tr>\n",
       "  </tbody>\n",
       "</table>\n",
       "<p>5 rows × 43 columns</p>\n",
       "</div>"
      ],
      "text/plain": [
       "       STUDYID  SUBJID            USUBJID  SITEID  RANDID TRTSEQP  TRTSEQPN  \\\n",
       "0  XXXXX-XX-XX    9005  XXXXX-XX-XX-09005       9     5.0      RT       2.0   \n",
       "1  XXXXX-XX-XX    9006  XXXXX-XX-XX-09006       9     6.0      RT       2.0   \n",
       "2  XXXXX-XX-XX    9007  XXXXX-XX-XX-09007       9     7.0      TR       1.0   \n",
       "3  XXXXX-XX-XX    9008  XXXXX-XX-XX-09008       9     8.0      RT       2.0   \n",
       "4  XXXXX-XX-XX    9009  XXXXX-XX-XX-09009       9     NaN     NaN       NaN   \n",
       "\n",
       "  TRT01P  TRT01PN TRT02P  ...       SMOKDC            ALCCDC  \\\n",
       "0  drug2      2.0  drug1  ...          Нет  Употреблял ранее   \n",
       "1  drug2      2.0  drug1  ...          Нет                Да   \n",
       "2  drug1      1.0  drug2  ...          Нет               Нет   \n",
       "3  drug2      2.0  drug1  ...          Нет               Нет   \n",
       "4    NaN      NaN    NaN  ...  Не известно       Не известно   \n",
       "\n",
       "                                           DOREAS     ECREAS  \\\n",
       "0                                             NaN        NaN   \n",
       "1                                             NaN        NaN   \n",
       "2                                             NaN        NaN   \n",
       "3                                             NaN  Случай НЯ   \n",
       "4  Несоответствие критериям включения/невключения        NaN   \n",
       "\n",
       "                DOREASPP DOREASSAF RANDFL PPROTFL SAFFL COMPLFL  \n",
       "0                    NaN       NaN      Y       Y     Y       Y  \n",
       "1                    NaN       NaN      Y       Y     Y       Y  \n",
       "2                    NaN       NaN      Y       Y     Y       Y  \n",
       "3  Выбыл из исследования       NaN      Y       N     Y       N  \n",
       "4  Выбыл из исследования       NaN      N       N     N       N  \n",
       "\n",
       "[5 rows x 43 columns]"
      ]
     },
     "execution_count": 104,
     "metadata": {},
     "output_type": "execute_result"
    }
   ],
   "source": [
    "ADSL = pd.read_excel('ADSL.xlsx')\n",
    "ADSL"
   ]
  },
  {
   "cell_type": "code",
   "execution_count": 105,
   "id": "d834c926-5236-49c7-b797-f22fc141eb07",
   "metadata": {
    "execution": {
     "iopub.execute_input": "2024-01-14T16:31:04.491825Z",
     "iopub.status.busy": "2024-01-14T16:31:04.491375Z",
     "iopub.status.idle": "2024-01-14T16:31:04.517169Z",
     "shell.execute_reply": "2024-01-14T16:31:04.516247Z",
     "shell.execute_reply.started": "2024-01-14T16:31:04.491799Z"
    }
   },
   "outputs": [],
   "source": [
    "ADSL.index = ADSL.SUBJID.to_list()\n",
    "\n",
    "from datetime import datetime\n",
    "def convert_to_date(date_str, fmt):\n",
    "    if type(date_str)!=float:\n",
    "        x = datetime.strptime(date_str, fmt)\n",
    "        return x\n",
    "    else:\n",
    "        return None\n",
    "ADSL['AP01SDT'] = ADSL['AP01SDT'].apply(lambda x: convert_to_date(x, '%d.%m.%Y'))\n",
    "ADSL['AP02SDT'] = ADSL['AP02SDT'].apply(lambda x: convert_to_date(x, '%d.%m.%Y'))\n",
    "ADSL['AP01EDT'] = ADSL['AP01EDT'].apply(lambda x: convert_to_date(x, '%d.%m.%Y'))\n",
    "ADSL['AP02EDT'] = ADSL['AP02EDT'].apply(lambda x: convert_to_date(x, '%d.%m.%Y'))"
   ]
  },
  {
   "cell_type": "code",
   "execution_count": 106,
   "id": "36b5a688-d6b9-4546-af02-c51be65ce78e",
   "metadata": {
    "execution": {
     "iopub.execute_input": "2024-01-14T16:31:05.224556Z",
     "iopub.status.busy": "2024-01-14T16:31:05.224103Z",
     "iopub.status.idle": "2024-01-14T16:31:05.245301Z",
     "shell.execute_reply": "2024-01-14T16:31:05.244438Z",
     "shell.execute_reply.started": "2024-01-14T16:31:05.224531Z"
    }
   },
   "outputs": [],
   "source": [
    "ADSL = ADSL[ADSL.RANDFL=='Y']"
   ]
  },
  {
   "cell_type": "code",
   "execution_count": 107,
   "id": "1d9cde8e-e845-4212-80aa-3f0ee8ec55ac",
   "metadata": {
    "execution": {
     "iopub.execute_input": "2024-01-14T16:31:06.336742Z",
     "iopub.status.busy": "2024-01-14T16:31:06.336281Z",
     "iopub.status.idle": "2024-01-14T16:31:06.356432Z",
     "shell.execute_reply": "2024-01-14T16:31:06.355594Z",
     "shell.execute_reply.started": "2024-01-14T16:31:06.336709Z"
    }
   },
   "outputs": [],
   "source": [
    "adae = {}"
   ]
  },
  {
   "cell_type": "code",
   "execution_count": 108,
   "id": "70a04ca9-b45b-460f-92c1-6faf6265df97",
   "metadata": {
    "execution": {
     "iopub.execute_input": "2024-01-14T16:31:07.297291Z",
     "iopub.status.busy": "2024-01-14T16:31:07.296934Z",
     "iopub.status.idle": "2024-01-14T16:31:07.355443Z",
     "shell.execute_reply": "2024-01-14T16:31:07.354635Z",
     "shell.execute_reply.started": "2024-01-14T16:31:07.297272Z"
    }
   },
   "outputs": [],
   "source": [
    "AE = pd.read_excel('/home/jovyan/projects/Biostat/BioStat_2023/Data_control/adams_construction/sdtm_files/AE_ADVERSEEVENTS.xlsx')\n",
    "AE['AESTDTC'] = AE['AESTDTC'].apply(lambda x: convert_to_date(x, '%Y-%m-%d'))\n",
    "AE['AEENDTC'] = AE['AEENDTC'].apply(lambda x: convert_to_date(x, '%Y-%m-%d'))\n",
    "SUPPAE = pd.read_excel('/home/jovyan/projects/Biostat/BioStat_2023/Data_control/adams_construction/sdtm_files/SUPPAE_ADVERSEEVENTS.xlsx')"
   ]
  },
  {
   "cell_type": "code",
   "execution_count": 109,
   "id": "7d30c8ed-9a91-491d-8f30-4a0a5691f808",
   "metadata": {
    "execution": {
     "iopub.execute_input": "2024-01-14T16:31:08.069078Z",
     "iopub.status.busy": "2024-01-14T16:31:08.068439Z",
     "iopub.status.idle": "2024-01-14T16:31:08.093558Z",
     "shell.execute_reply": "2024-01-14T16:31:08.092931Z",
     "shell.execute_reply.started": "2024-01-14T16:31:08.069051Z"
    }
   },
   "outputs": [],
   "source": [
    "for col in ['STUDYID',\n",
    " 'SUBJID',\n",
    " 'USUBJID',\n",
    " 'SITEID',\n",
    " 'TRTSEQP',\n",
    " 'TRTSEQPN',\n",
    " 'AP01SDT',\n",
    " 'AP01EDT',\n",
    " 'AP02SDT',\n",
    " 'AP02EDT',\n",
    "           'SAFFL',\n",
    "'AGE',\n",
    "'SEX',\n",
    "'WEIGHT',\n",
    "'RACE'\n",
    "]:\n",
    "     adsl_col = 'WEIGHTBL' if col == 'WEIGHT' else col\n",
    "     adae[col] = AE['SUBJID'].map(lambda x: ADSL.loc[x,adsl_col])"
   ]
  },
  {
   "cell_type": "code",
   "execution_count": 110,
   "id": "144cfafb-4f6e-45af-9c3f-2a4cba1ca6c1",
   "metadata": {
    "execution": {
     "iopub.execute_input": "2024-01-14T16:31:09.113813Z",
     "iopub.status.busy": "2024-01-14T16:31:09.113405Z",
     "iopub.status.idle": "2024-01-14T16:31:09.140014Z",
     "shell.execute_reply": "2024-01-14T16:31:09.139462Z",
     "shell.execute_reply.started": "2024-01-14T16:31:09.113784Z"
    }
   },
   "outputs": [
    {
     "name": "stdout",
     "output_type": "stream",
     "text": [
      "9008\n"
     ]
    },
    {
     "data": {
      "text/plain": [
       "0     1.0\n",
       "1     1.0\n",
       "2     1.0\n",
       "3     1.0\n",
       "4     1.0\n",
       "5     2.0\n",
       "6     2.0\n",
       "7     2.0\n",
       "8     NaN\n",
       "9     1.0\n",
       "10    1.0\n",
       "dtype: float64"
      ]
     },
     "execution_count": 110,
     "metadata": {},
     "output_type": "execute_result"
    }
   ],
   "source": [
    "adae['AREPIOD'] = {}\n",
    "combined = AE.merge(ADSL, on='SUBJID', how='left')\n",
    "for i in combined.index:\n",
    "    period = 0\n",
    "    d = combined.loc[i]\n",
    "    ae_st = d.loc['AESTDTC']\n",
    "    p1_st = d.loc['AP01SDT']\n",
    "    p1_end = d.loc['AP01EDT']\n",
    "    p2_st = d.loc['AP02SDT']\n",
    "    p2_end = d.loc['AP02EDT']\n",
    "    if p1_st and p1_end:\n",
    "        if ae_st>=p1_st and ae_st<=p1_end:\n",
    "            period = 1\n",
    "        elif ae_st<p1_st:\n",
    "            print(d.SUBJID)\n",
    "            period = None\n",
    "    else:\n",
    "        period = None\n",
    "    if p2_st and p2_end:\n",
    "        if ae_st>=p2_st and ae_st<=p2_end:\n",
    "            period = 2\n",
    "    else:\n",
    "        period = None\n",
    "    adae['AREPIOD'][i] = period\n",
    "adae['AREPIOD'] = pd.Series(adae['AREPIOD'])\n",
    "adae['AREPIOD']"
   ]
  },
  {
   "cell_type": "code",
   "execution_count": 111,
   "id": "23e88390-5c13-48b0-a51c-945c8c50b161",
   "metadata": {
    "execution": {
     "iopub.execute_input": "2024-01-14T16:31:09.845453Z",
     "iopub.status.busy": "2024-01-14T16:31:09.844870Z",
     "iopub.status.idle": "2024-01-14T16:31:09.868940Z",
     "shell.execute_reply": "2024-01-14T16:31:09.868137Z",
     "shell.execute_reply.started": "2024-01-14T16:31:09.845404Z"
    }
   },
   "outputs": [
    {
     "data": {
      "text/plain": [
       "0     Период 1.0\n",
       "1     Период 1.0\n",
       "2     Период 1.0\n",
       "3     Период 1.0\n",
       "4     Период 1.0\n",
       "5     Период 2.0\n",
       "6     Период 2.0\n",
       "7     Период 2.0\n",
       "8            NaN\n",
       "9     Период 1.0\n",
       "10    Период 1.0\n",
       "dtype: object"
      ]
     },
     "execution_count": 111,
     "metadata": {},
     "output_type": "execute_result"
    }
   ],
   "source": [
    "adae['APERIODC'] = adae['AREPIOD'].map(lambda x: f\"Период {x}\" if x==1 or x==2 else np.nan)\n",
    "adae['APERIODC'] "
   ]
  },
  {
   "cell_type": "code",
   "execution_count": 112,
   "id": "6918e512-dd6d-4b8e-9e52-78f4b969bd22",
   "metadata": {
    "execution": {
     "iopub.execute_input": "2024-01-14T16:31:10.582585Z",
     "iopub.status.busy": "2024-01-14T16:31:10.581880Z",
     "iopub.status.idle": "2024-01-14T16:31:10.612396Z",
     "shell.execute_reply": "2024-01-14T16:31:10.611541Z",
     "shell.execute_reply.started": "2024-01-14T16:31:10.582534Z"
    }
   },
   "outputs": [
    {
     "data": {
      "text/plain": [
       "0     drug2\n",
       "1     drug2\n",
       "2     drug2\n",
       "3     drug2\n",
       "4     drug2\n",
       "5     drug2\n",
       "6     drug2\n",
       "7     drug2\n",
       "8       NaN\n",
       "9     drug2\n",
       "10    drug2\n",
       "dtype: object"
      ]
     },
     "execution_count": 112,
     "metadata": {},
     "output_type": "execute_result"
    }
   ],
   "source": [
    "adae['TRTP'] = {}\n",
    "for i in adae['AREPIOD'].index:\n",
    "    if  adae['AREPIOD'].loc[i] ==1:\n",
    "        adae['TRTP'][i] = ADSL[ADSL.SUBJID==adae['SUBJID'].loc[i]].TRT01P.iloc[0]\n",
    "    elif adae['AREPIOD'].loc[i] ==2:\n",
    "        adae['TRTP'][i] = ADSL[ADSL.SUBJID==adae['SUBJID'].loc[i]].TRT02P.iloc[0]\n",
    "    else:\n",
    "        adae['TRTP'][i] = np.nan\n",
    "adae['TRTP'] = pd.Series(adae['TRTP'])\n",
    "adae['TRTP']"
   ]
  },
  {
   "cell_type": "code",
   "execution_count": 113,
   "id": "78adf9ea-55ec-4cdf-90d6-84df71246bfe",
   "metadata": {
    "execution": {
     "iopub.execute_input": "2024-01-14T16:31:11.294527Z",
     "iopub.status.busy": "2024-01-14T16:31:11.293781Z",
     "iopub.status.idle": "2024-01-14T16:31:11.326643Z",
     "shell.execute_reply": "2024-01-14T16:31:11.325902Z",
     "shell.execute_reply.started": "2024-01-14T16:31:11.294476Z"
    }
   },
   "outputs": [
    {
     "data": {
      "text/plain": [
       "0     2.0\n",
       "1     2.0\n",
       "2     2.0\n",
       "3     2.0\n",
       "4     2.0\n",
       "5     2.0\n",
       "6     2.0\n",
       "7     2.0\n",
       "8     NaN\n",
       "9     2.0\n",
       "10    2.0\n",
       "dtype: float64"
      ]
     },
     "execution_count": 113,
     "metadata": {},
     "output_type": "execute_result"
    }
   ],
   "source": [
    "adae['TRTPN'] = {}\n",
    "for i in adae['AREPIOD'].index:\n",
    "    if  adae['AREPIOD'].loc[i] ==1:\n",
    "        adae['TRTPN'][i] = ADSL[ADSL.SUBJID==adae['SUBJID'].loc[i]].TRT01PN.iloc[0]\n",
    "    elif adae['AREPIOD'].loc[i] ==2:\n",
    "        adae['TRTPN'][i] = ADSL[ADSL.SUBJID==adae['SUBJID'].loc[i]].TRT02PN.iloc[0]\n",
    "    else:\n",
    "        adae['TRTPN'][i] = np.nan\n",
    "adae['TRTPN'] = pd.Series(adae['TRTPN'])\n",
    "adae['TRTPN']"
   ]
  },
  {
   "cell_type": "code",
   "execution_count": 114,
   "id": "03ad68e4-e358-453c-967f-a23127cc348b",
   "metadata": {
    "execution": {
     "iopub.execute_input": "2024-01-14T16:31:12.298639Z",
     "iopub.status.busy": "2024-01-14T16:31:12.298260Z",
     "iopub.status.idle": "2024-01-14T16:31:12.318235Z",
     "shell.execute_reply": "2024-01-14T16:31:12.317520Z",
     "shell.execute_reply.started": "2024-01-14T16:31:12.298622Z"
    }
   },
   "outputs": [
    {
     "data": {
      "text/plain": [
       "0     1\n",
       "1     2\n",
       "2     1\n",
       "3     1\n",
       "4     2\n",
       "5     1\n",
       "6     2\n",
       "7     1\n",
       "8     1\n",
       "9     1\n",
       "10    1\n",
       "Name: AESEQ, dtype: int64"
      ]
     },
     "execution_count": 114,
     "metadata": {},
     "output_type": "execute_result"
    }
   ],
   "source": [
    "adae['AESEQ'] = AE.AESEQ \n",
    "adae['AESEQ'] "
   ]
  },
  {
   "cell_type": "code",
   "execution_count": 115,
   "id": "adb379ab-891d-4343-a1dc-093dcbf2d3d2",
   "metadata": {
    "execution": {
     "iopub.execute_input": "2024-01-14T16:31:13.011061Z",
     "iopub.status.busy": "2024-01-14T16:31:13.010300Z",
     "iopub.status.idle": "2024-01-14T16:31:13.034621Z",
     "shell.execute_reply": "2024-01-14T16:31:13.033843Z",
     "shell.execute_reply.started": "2024-01-14T16:31:13.011010Z"
    }
   },
   "outputs": [
    {
     "data": {
      "text/plain": [
       "0     TRANSITORY BURNING IN SITE OF APPLICATION\n",
       "1                      APPLICATION SITE BURNING\n",
       "2              BURNING SENSATION WHEN URINATING\n",
       "3                                URINATION PAIN\n",
       "4                                URINATION PAIN\n",
       "5                             PAINFUL URINATION\n",
       "6                             PAINFUL URINATION\n",
       "7                      INCREASED BLOOD PRESSURE\n",
       "8                              NASAL CONGESTION\n",
       "9                        RETROGRADE EJACULATION\n",
       "10        SLUGGISH URINATION,  INCOMPLETE EMPTY\n",
       "Name: AETERM, dtype: object"
      ]
     },
     "execution_count": 115,
     "metadata": {},
     "output_type": "execute_result"
    }
   ],
   "source": [
    "adae['AETERM'] = AE.AETERM \n",
    "adae['AETERM']"
   ]
  },
  {
   "cell_type": "code",
   "execution_count": 116,
   "id": "116787b4-95d8-451b-917c-d62aa85865b6",
   "metadata": {
    "execution": {
     "iopub.execute_input": "2024-01-14T16:31:14.197056Z",
     "iopub.status.busy": "2024-01-14T16:31:14.196345Z",
     "iopub.status.idle": "2024-01-14T16:31:14.220463Z",
     "shell.execute_reply": "2024-01-14T16:31:14.219725Z",
     "shell.execute_reply.started": "2024-01-14T16:31:14.197006Z"
    }
   },
   "outputs": [
    {
     "data": {
      "text/plain": [
       "0    2023-06-28\n",
       "1    2023-06-29\n",
       "2    2023-06-29\n",
       "3    2023-06-29\n",
       "4    2023-06-30\n",
       "5    2023-07-05\n",
       "6    2023-07-06\n",
       "7    2023-07-06\n",
       "8    2023-06-27\n",
       "9    2023-06-28\n",
       "10   2023-06-29\n",
       "Name: AESTDTC, dtype: datetime64[ns]"
      ]
     },
     "execution_count": 116,
     "metadata": {},
     "output_type": "execute_result"
    }
   ],
   "source": [
    "AE.AESTDTC"
   ]
  },
  {
   "cell_type": "code",
   "execution_count": 117,
   "id": "2292d8fe-94f5-48d0-b43d-ff4586495f3a",
   "metadata": {
    "execution": {
     "iopub.execute_input": "2024-01-14T16:31:15.217320Z",
     "iopub.status.busy": "2024-01-14T16:31:15.216739Z",
     "iopub.status.idle": "2024-01-14T16:31:15.241983Z",
     "shell.execute_reply": "2024-01-14T16:31:15.240693Z",
     "shell.execute_reply.started": "2024-01-14T16:31:15.217271Z"
    }
   },
   "outputs": [
    {
     "data": {
      "text/plain": [
       "0     28.06.2023\n",
       "1     29.06.2023\n",
       "2     29.06.2023\n",
       "3     29.06.2023\n",
       "4     30.06.2023\n",
       "5     05.07.2023\n",
       "6     06.07.2023\n",
       "7     06.07.2023\n",
       "8     27.06.2023\n",
       "9     28.06.2023\n",
       "10    29.06.2023\n",
       "Name: AEENDTC, dtype: object"
      ]
     },
     "execution_count": 117,
     "metadata": {},
     "output_type": "execute_result"
    }
   ],
   "source": [
    "adae['ASTDT'] = AE.AESTDTC.dt.strftime('%d.%m.%Y')\n",
    "adae['AENDT'] = AE.AEENDTC.dt.strftime('%d.%m.%Y')\n",
    "adae['AENDT']"
   ]
  },
  {
   "cell_type": "code",
   "execution_count": 118,
   "id": "cc58e63a-91ed-4a10-9cf0-178250193164",
   "metadata": {
    "execution": {
     "iopub.execute_input": "2024-01-14T16:31:16.187857Z",
     "iopub.status.busy": "2024-01-14T16:31:16.187237Z",
     "iopub.status.idle": "2024-01-14T16:31:16.222032Z",
     "shell.execute_reply": "2024-01-14T16:31:16.221259Z",
     "shell.execute_reply.started": "2024-01-14T16:31:16.187806Z"
    }
   },
   "outputs": [
    {
     "data": {
      "text/html": [
       "<div>\n",
       "<style scoped>\n",
       "    .dataframe tbody tr th:only-of-type {\n",
       "        vertical-align: middle;\n",
       "    }\n",
       "\n",
       "    .dataframe tbody tr th {\n",
       "        vertical-align: top;\n",
       "    }\n",
       "\n",
       "    .dataframe thead th {\n",
       "        text-align: right;\n",
       "    }\n",
       "</style>\n",
       "<table border=\"1\" class=\"dataframe\">\n",
       "  <thead>\n",
       "    <tr style=\"text-align: right;\">\n",
       "      <th></th>\n",
       "      <th>PT</th>\n",
       "      <th>PTT</th>\n",
       "      <th>SOC</th>\n",
       "      <th>SOCT</th>\n",
       "    </tr>\n",
       "  </thead>\n",
       "  <tbody>\n",
       "    <tr>\n",
       "      <th>0</th>\n",
       "      <td>Administration site irritation</td>\n",
       "      <td>Раздражение в месте введения                  ...</td>\n",
       "      <td>General disorders and administration site cond...</td>\n",
       "      <td>Общие нарушения и реакции в месте введения</td>\n",
       "    </tr>\n",
       "    <tr>\n",
       "      <th>1</th>\n",
       "      <td>Dysuria</td>\n",
       "      <td>Дизурия</td>\n",
       "      <td>Renal and urinary disorders</td>\n",
       "      <td>Нарушения со стороны почек и мочевыводящих путей</td>\n",
       "    </tr>\n",
       "    <tr>\n",
       "      <th>2</th>\n",
       "      <td>Hypertension</td>\n",
       "      <td>Гипертензия</td>\n",
       "      <td>Vascular disorders</td>\n",
       "      <td>Нарушения со стороны сосудов</td>\n",
       "    </tr>\n",
       "    <tr>\n",
       "      <th>3</th>\n",
       "      <td>Nasal congestion</td>\n",
       "      <td>Заложенность носа</td>\n",
       "      <td>Respiratory, thoracic and mediastinal disorders</td>\n",
       "      <td>Нарушения со стороны дыхательной системы, орга...</td>\n",
       "    </tr>\n",
       "    <tr>\n",
       "      <th>4</th>\n",
       "      <td>Retrograde ejaculation</td>\n",
       "      <td>Ретроградная эякуляция</td>\n",
       "      <td>Reproductive system and breast disorders</td>\n",
       "      <td>Нарушения со стороны репродуктивной системы и ...</td>\n",
       "    </tr>\n",
       "    <tr>\n",
       "      <th>5</th>\n",
       "      <td>Urine flow decreased</td>\n",
       "      <td>Замедленная струя мочи</td>\n",
       "      <td>Renal and urinary disorders</td>\n",
       "      <td>Нарушения со стороны почек и мочевыводящих путей</td>\n",
       "    </tr>\n",
       "  </tbody>\n",
       "</table>\n",
       "</div>"
      ],
      "text/plain": [
       "                                PT  \\\n",
       "0  Administration site irritation    \n",
       "1                          Dysuria   \n",
       "2                     Hypertension   \n",
       "3                 Nasal congestion   \n",
       "4           Retrograde ejaculation   \n",
       "5            Urine flow decreased    \n",
       "\n",
       "                                                 PTT  \\\n",
       "0  Раздражение в месте введения                  ...   \n",
       "1                                     Дизурия          \n",
       "2                           Гипертензия                \n",
       "3                 Заложенность носа                    \n",
       "4       Ретроградная эякуляция                         \n",
       "5       Замедленная струя мочи                         \n",
       "\n",
       "                                                 SOC  \\\n",
       "0  General disorders and administration site cond...   \n",
       "1                        Renal and urinary disorders   \n",
       "2                                 Vascular disorders   \n",
       "3    Respiratory, thoracic and mediastinal disorders   \n",
       "4           Reproductive system and breast disorders   \n",
       "5                        Renal and urinary disorders   \n",
       "\n",
       "                                                SOCT  \n",
       "0         Общие нарушения и реакции в месте введения  \n",
       "1   Нарушения со стороны почек и мочевыводящих путей  \n",
       "2                       Нарушения со стороны сосудов  \n",
       "3  Нарушения со стороны дыхательной системы, орга...  \n",
       "4  Нарушения со стороны репродуктивной системы и ...  \n",
       "5   Нарушения со стороны почек и мочевыводящих путей  "
      ]
     },
     "execution_count": 118,
     "metadata": {},
     "output_type": "execute_result"
    }
   ],
   "source": [
    "terms_translation = pd.read_excel('/home/jovyan/projects/Biostat/BioStat_2023/Data_control/adams_construction/sdtm_files/terms_translation.xlsx')\n",
    "terms_translation"
   ]
  },
  {
   "cell_type": "code",
   "execution_count": 119,
   "id": "330ad486-43ed-436e-bb48-c1ee7695f7bf",
   "metadata": {
    "execution": {
     "iopub.execute_input": "2024-01-14T16:31:17.048399Z",
     "iopub.status.busy": "2024-01-14T16:31:17.047631Z",
     "iopub.status.idle": "2024-01-14T16:31:17.071665Z",
     "shell.execute_reply": "2024-01-14T16:31:17.070885Z",
     "shell.execute_reply.started": "2024-01-14T16:31:17.048346Z"
    }
   },
   "outputs": [],
   "source": [
    "terms_translation = terms_translation.apply(lambda x: x.str.replace('  ',' ').str.strip(' '))"
   ]
  },
  {
   "cell_type": "code",
   "execution_count": 120,
   "id": "b1935356-c44d-42a3-b3cc-67fc8de9eb91",
   "metadata": {
    "execution": {
     "iopub.execute_input": "2024-01-14T16:31:17.805817Z",
     "iopub.status.busy": "2024-01-14T16:31:17.805077Z",
     "iopub.status.idle": "2024-01-14T16:31:17.830223Z",
     "shell.execute_reply": "2024-01-14T16:31:17.829417Z",
     "shell.execute_reply.started": "2024-01-14T16:31:17.805764Z"
    }
   },
   "outputs": [
    {
     "data": {
      "text/plain": [
       "0     General disorders and administration site cond...\n",
       "1     General disorders and administration site cond...\n",
       "2                           Renal and urinary disorders\n",
       "3                           Renal and urinary disorders\n",
       "4                           Renal and urinary disorders\n",
       "5                           Renal and urinary disorders\n",
       "6                           Renal and urinary disorders\n",
       "7                                    Vascular disorders\n",
       "8       Respiratory, thoracic and mediastinal disorders\n",
       "9              Reproductive system and breast disorders\n",
       "10                          Renal and urinary disorders\n",
       "Name: AEBODSYS, dtype: object"
      ]
     },
     "execution_count": 120,
     "metadata": {},
     "output_type": "execute_result"
    }
   ],
   "source": [
    "AE['AEDECOD'] = AE.AEDECOD.apply(lambda x: x.replace('  ',' ').strip(' '))\n",
    "AE['AEBODSYS'] = AE.AEBODSYS.apply(lambda x: x.replace('  ',' ').strip(' '))\n",
    "AE['AEBODSYS']"
   ]
  },
  {
   "cell_type": "code",
   "execution_count": 121,
   "id": "5fb2243b-3fd4-4f20-b6ae-a94f50ec0007",
   "metadata": {
    "execution": {
     "iopub.execute_input": "2024-01-14T16:31:18.493188Z",
     "iopub.status.busy": "2024-01-14T16:31:18.492465Z",
     "iopub.status.idle": "2024-01-14T16:31:18.517142Z",
     "shell.execute_reply": "2024-01-14T16:31:18.516356Z",
     "shell.execute_reply.started": "2024-01-14T16:31:18.493137Z"
    }
   },
   "outputs": [],
   "source": [
    "AE_combined = AE.merge(terms_translation, left_on=['AEDECOD', 'AEBODSYS'], right_on=['PT', 'SOC'])\n",
    "AE_combined['AEBODSYS_with_translation'] = AE_combined['AEBODSYS'] + ' (' + AE_combined['SOCT'] + ')'\n",
    "adae['AEBODSYS']  = AE_combined['AEBODSYS_with_translation']\n",
    "adae['AEDECOD'] = AE_combined['AEDECOD']"
   ]
  },
  {
   "cell_type": "code",
   "execution_count": 122,
   "id": "74b48723-04f5-49f8-9b61-e6a8522eeb10",
   "metadata": {
    "execution": {
     "iopub.execute_input": "2024-01-14T16:31:19.280517Z",
     "iopub.status.busy": "2024-01-14T16:31:19.279781Z",
     "iopub.status.idle": "2024-01-14T16:31:19.303467Z",
     "shell.execute_reply": "2024-01-14T16:31:19.302603Z",
     "shell.execute_reply.started": "2024-01-14T16:31:19.280466Z"
    }
   },
   "outputs": [
    {
     "data": {
      "text/plain": [
       "AEBODSYS_with_translation\n",
       "Renal and urinary disorders (Нарушения со стороны почек и мочевыводящих путей)                                                      6\n",
       "General disorders and administration site conditions (Общие нарушения и реакции в месте введения)                                   2\n",
       "Vascular disorders (Нарушения со стороны сосудов)                                                                                   1\n",
       "Respiratory, thoracic and mediastinal disorders (Нарушения со стороны дыхательной системы, органов грудной клетки и средостения)    1\n",
       "Reproductive system and breast disorders (Нарушения со стороны репродуктивной системы и молочных желез)                             1\n",
       "Name: count, dtype: int64"
      ]
     },
     "execution_count": 122,
     "metadata": {},
     "output_type": "execute_result"
    }
   ],
   "source": [
    "adae['AEBODSYS'].value_counts()"
   ]
  },
  {
   "cell_type": "code",
   "execution_count": 123,
   "id": "cde01ce0-f4d5-4e34-a606-a1c53e89bf2b",
   "metadata": {
    "execution": {
     "iopub.execute_input": "2024-01-14T16:31:20.189812Z",
     "iopub.status.busy": "2024-01-14T16:31:20.189216Z",
     "iopub.status.idle": "2024-01-14T16:31:20.212269Z",
     "shell.execute_reply": "2024-01-14T16:31:20.211616Z",
     "shell.execute_reply.started": "2024-01-14T16:31:20.189761Z"
    }
   },
   "outputs": [],
   "source": [
    "adae['AESTDTC'] = AE['AESTDTC'].dt.strftime('%Y-%m-%d')\n",
    "\n",
    "for col in ['AP01SDT',\n",
    " 'AP01EDT',\n",
    " 'AP02SDT',\n",
    " 'AP02EDT']:\n",
    "     adae[col] = adae[col].dt.strftime('%d.%m.%Y')"
   ]
  },
  {
   "cell_type": "code",
   "execution_count": 124,
   "id": "c7faf105-1288-4f91-a189-d7c3be3e4853",
   "metadata": {
    "execution": {
     "iopub.execute_input": "2024-01-14T16:31:20.977177Z",
     "iopub.status.busy": "2024-01-14T16:31:20.976569Z",
     "iopub.status.idle": "2024-01-14T16:31:21.000832Z",
     "shell.execute_reply": "2024-01-14T16:31:21.000041Z",
     "shell.execute_reply.started": "2024-01-14T16:31:20.977126Z"
    }
   },
   "outputs": [
    {
     "data": {
      "text/plain": [
       "0     2023-06-28\n",
       "1     2023-06-29\n",
       "2     2023-06-29\n",
       "3     2023-06-29\n",
       "4     2023-06-30\n",
       "5     2023-07-05\n",
       "6     2023-07-06\n",
       "7     2023-07-06\n",
       "8     2023-06-27\n",
       "9     2023-06-28\n",
       "10    2023-06-29\n",
       "Name: AEENDTC, dtype: object"
      ]
     },
     "execution_count": 124,
     "metadata": {},
     "output_type": "execute_result"
    }
   ],
   "source": [
    "adae['AEENDTC'] = AE['AEENDTC'].dt.strftime('%Y-%m-%d')\n",
    "adae['AEENDTC']"
   ]
  },
  {
   "cell_type": "code",
   "execution_count": 125,
   "id": "3cf640c0-51d8-4f1a-8949-063b44b6a04b",
   "metadata": {
    "execution": {
     "iopub.execute_input": "2024-01-14T16:31:21.696561Z",
     "iopub.status.busy": "2024-01-14T16:31:21.696226Z",
     "iopub.status.idle": "2024-01-14T16:31:21.712642Z",
     "shell.execute_reply": "2024-01-14T16:31:21.712053Z",
     "shell.execute_reply.started": "2024-01-14T16:31:21.696539Z"
    }
   },
   "outputs": [
    {
     "data": {
      "text/plain": [
       "0    NaN\n",
       "1    NaN\n",
       "2    NaN\n",
       "3    NaN\n",
       "4    NaN\n",
       "5    NaN\n",
       "6    NaN\n",
       "7    NaN\n",
       "8    NaN\n",
       "9    NaN\n",
       "10   NaN\n",
       "Name: AEENRTPT, dtype: float64"
      ]
     },
     "execution_count": 125,
     "metadata": {},
     "output_type": "execute_result"
    }
   ],
   "source": [
    "adae['AEENRTPT'] = AE['AEENRTPT']\n",
    "adae['AEENRF'] = AE['AEENRTPT'].map(lambda x: 'ONGOING' if x == 'ONGOING' else np.nan)\n",
    "adae['AEENRF'] "
   ]
  },
  {
   "cell_type": "code",
   "execution_count": 126,
   "id": "d21eb947-26fb-4aef-9afb-b0e77b20d987",
   "metadata": {
    "execution": {
     "iopub.execute_input": "2024-01-14T16:31:22.431133Z",
     "iopub.status.busy": "2024-01-14T16:31:22.430402Z",
     "iopub.status.idle": "2024-01-14T16:31:22.453821Z",
     "shell.execute_reply": "2024-01-14T16:31:22.453066Z",
     "shell.execute_reply.started": "2024-01-14T16:31:22.431082Z"
    }
   },
   "outputs": [],
   "source": [
    "adae['AESER'] = AE.AESER.map(lambda x:'N' if x=='Нет' else 'Y')"
   ]
  },
  {
   "cell_type": "code",
   "execution_count": 130,
   "id": "df1ac504-2b9a-4509-b6b6-b4d04e0df1e5",
   "metadata": {
    "execution": {
     "iopub.execute_input": "2024-01-14T16:31:35.422227Z",
     "iopub.status.busy": "2024-01-14T16:31:35.421156Z",
     "iopub.status.idle": "2024-01-14T16:31:35.443860Z",
     "shell.execute_reply": "2024-01-14T16:31:35.443100Z",
     "shell.execute_reply.started": "2024-01-14T16:31:35.422177Z"
    }
   },
   "outputs": [],
   "source": [
    "adae['ASEV'] = AE['AESEV'].map(lambda x:x[:-2]+'ая' if x=='Легкое' else \"Средняя\")\n",
    "adae['ASEVN'] = adae['ASEV'].map(lambda x: 1 if x=='Легкая' else 2)"
   ]
  },
  {
   "cell_type": "code",
   "execution_count": 131,
   "id": "cf0ae8a1-0895-41e6-a00b-0fcb760fffc3",
   "metadata": {
    "execution": {
     "iopub.execute_input": "2024-01-14T16:31:39.148801Z",
     "iopub.status.busy": "2024-01-14T16:31:39.148118Z",
     "iopub.status.idle": "2024-01-14T16:31:39.172990Z",
     "shell.execute_reply": "2024-01-14T16:31:39.172230Z",
     "shell.execute_reply.started": "2024-01-14T16:31:39.148751Z"
    }
   },
   "outputs": [
    {
     "data": {
      "text/plain": [
       "0     1\n",
       "1     2\n",
       "2     4\n",
       "3     3\n",
       "4     7\n",
       "5     7\n",
       "6     7\n",
       "7     7\n",
       "8     3\n",
       "9     3\n",
       "10    7\n",
       "Name: AEREL, dtype: int64"
      ]
     },
     "execution_count": 131,
     "metadata": {},
     "output_type": "execute_result"
    }
   ],
   "source": [
    "adae['AEREL'] = AE.AEREL\n",
    "\n",
    "mapper = {\n",
    "    'Определенная': 1,\n",
    "    'Вероятная': 2,\n",
    "    'Возможная': 3,\n",
    "    'Сомнительная': 4,\n",
    "    'Условная': 5,\n",
    "    'Не классифицируемая': 6,\n",
    "    'Не связано': 7\n",
    "}\n",
    "\n",
    "adae['AERELN'] = adae['AEREL'].map(lambda x: mapper[x])\n",
    "adae['AERELN']"
   ]
  },
  {
   "cell_type": "code",
   "execution_count": 132,
   "id": "e6fad113-eb80-4bee-82a3-335b771e23a1",
   "metadata": {
    "execution": {
     "iopub.execute_input": "2024-01-14T16:31:40.534421Z",
     "iopub.status.busy": "2024-01-14T16:31:40.533646Z",
     "iopub.status.idle": "2024-01-14T16:31:40.555429Z",
     "shell.execute_reply": "2024-01-14T16:31:40.554663Z",
     "shell.execute_reply.started": "2024-01-14T16:31:40.534351Z"
    }
   },
   "outputs": [],
   "source": [
    "mapper = {7:'Не связано',\n",
    "         6: np.nan}\n",
    "adae['RELGR1'] = adae['AERELN'].map(lambda x: mapper[x] if x in mapper.keys() else 'Связано')"
   ]
  },
  {
   "cell_type": "code",
   "execution_count": 133,
   "id": "f9c3b17b-0c13-4c5d-9c52-8b2cb876710f",
   "metadata": {
    "execution": {
     "iopub.execute_input": "2024-01-14T16:31:41.130040Z",
     "iopub.status.busy": "2024-01-14T16:31:41.129458Z",
     "iopub.status.idle": "2024-01-14T16:31:41.153740Z",
     "shell.execute_reply": "2024-01-14T16:31:41.152998Z",
     "shell.execute_reply.started": "2024-01-14T16:31:41.129989Z"
    }
   },
   "outputs": [
    {
     "data": {
      "text/plain": [
       "0     1\n",
       "1     1\n",
       "2     1\n",
       "3     1\n",
       "4     0\n",
       "5     0\n",
       "6     0\n",
       "7     0\n",
       "8     1\n",
       "9     1\n",
       "10    0\n",
       "Name: AEREL, dtype: int64"
      ]
     },
     "execution_count": 133,
     "metadata": {},
     "output_type": "execute_result"
    }
   ],
   "source": [
    "mapper = {'Не связано':0,\n",
    "          'Связано':1}\n",
    "adae['RELGR1N'] = adae['RELGR1'].map(lambda x: mapper[x])\n",
    "adae['RELGR1N']"
   ]
  },
  {
   "cell_type": "code",
   "execution_count": 134,
   "id": "066a04bf-d0ad-470c-ac58-bdd0f6dc947a",
   "metadata": {
    "execution": {
     "iopub.execute_input": "2024-01-14T16:31:42.456411Z",
     "iopub.status.busy": "2024-01-14T16:31:42.455636Z",
     "iopub.status.idle": "2024-01-14T16:31:42.479437Z",
     "shell.execute_reply": "2024-01-14T16:31:42.478660Z",
     "shell.execute_reply.started": "2024-01-14T16:31:42.456357Z"
    }
   },
   "outputs": [
    {
     "data": {
      "text/plain": [
       "0     Без изменений\n",
       "1     Без изменений\n",
       "2     Без изменений\n",
       "3     Без изменений\n",
       "4     Без изменений\n",
       "5     Без изменений\n",
       "6     Без изменений\n",
       "7     Без изменений\n",
       "8     Без изменений\n",
       "9     Без изменений\n",
       "10     Не применимо\n",
       "Name: AEACN, dtype: object"
      ]
     },
     "execution_count": 134,
     "metadata": {},
     "output_type": "execute_result"
    }
   ],
   "source": [
    "adae['AEACN'] = AE.AEACN\n",
    "adae['AEACN']"
   ]
  },
  {
   "cell_type": "code",
   "execution_count": 135,
   "id": "d52ae4c0-0643-4707-bba8-de9b19dbd826",
   "metadata": {
    "execution": {
     "iopub.execute_input": "2024-01-14T16:31:43.199095Z",
     "iopub.status.busy": "2024-01-14T16:31:43.198731Z",
     "iopub.status.idle": "2024-01-14T16:31:43.221959Z",
     "shell.execute_reply": "2024-01-14T16:31:43.221201Z",
     "shell.execute_reply.started": "2024-01-14T16:31:43.199075Z"
    }
   },
   "outputs": [
    {
     "data": {
      "text/plain": [
       "0     Выздоровление без осложнений\n",
       "1     Выздоровление без осложнений\n",
       "2     Выздоровление без осложнений\n",
       "3     Выздоровление без осложнений\n",
       "4     Выздоровление без осложнений\n",
       "5     Выздоровление без осложнений\n",
       "6     Выздоровление без осложнений\n",
       "7     Выздоровление без осложнений\n",
       "8     Выздоровление без осложнений\n",
       "9     Выздоровление без осложнений\n",
       "10    Выздоровление без осложнений\n",
       "Name: AEOUT, dtype: object"
      ]
     },
     "execution_count": 135,
     "metadata": {},
     "output_type": "execute_result"
    }
   ],
   "source": [
    "adae['AERES']  = AE.AEOUT.map(lambda x: 'Выздоровление без осложнений' if x =='Выздоровление без последствий' else np.nan)\n",
    "adae['AERES']"
   ]
  },
  {
   "cell_type": "code",
   "execution_count": 136,
   "id": "8bc46012-14e4-403d-a4d7-14259cde14bf",
   "metadata": {
    "execution": {
     "iopub.execute_input": "2024-01-14T16:31:44.052656Z",
     "iopub.status.busy": "2024-01-14T16:31:44.051913Z",
     "iopub.status.idle": "2024-01-14T16:31:44.076439Z",
     "shell.execute_reply": "2024-01-14T16:31:44.075650Z",
     "shell.execute_reply.started": "2024-01-14T16:31:44.052603Z"
    }
   },
   "outputs": [
    {
     "data": {
      "text/plain": [
       "0     1\n",
       "1     1\n",
       "2     1\n",
       "3     1\n",
       "4     1\n",
       "5     1\n",
       "6     1\n",
       "7     1\n",
       "8     1\n",
       "9     1\n",
       "10    1\n",
       "Name: AEOUT, dtype: int64"
      ]
     },
     "execution_count": 136,
     "metadata": {},
     "output_type": "execute_result"
    }
   ],
   "source": [
    "adae['AERESN'] = adae['AERES'].map(lambda x: 1 if x == 'Выздоровление без осложнений' else np.nan)\n",
    "adae['AERESN']"
   ]
  },
  {
   "cell_type": "code",
   "execution_count": 137,
   "id": "c3fca7de-9b63-4b0a-bede-378c12ae1a15",
   "metadata": {
    "execution": {
     "iopub.execute_input": "2024-01-14T16:31:44.796086Z",
     "iopub.status.busy": "2024-01-14T16:31:44.795362Z",
     "iopub.status.idle": "2024-01-14T16:31:44.814303Z",
     "shell.execute_reply": "2024-01-14T16:31:44.813293Z",
     "shell.execute_reply.started": "2024-01-14T16:31:44.796051Z"
    }
   },
   "outputs": [
    {
     "data": {
      "text/plain": [
       "0     N\n",
       "1     N\n",
       "2     N\n",
       "3     N\n",
       "4     N\n",
       "5     N\n",
       "6     N\n",
       "7     Y\n",
       "8     N\n",
       "9     N\n",
       "10    N\n",
       "Name: AECONTRT, dtype: object"
      ]
     },
     "execution_count": 137,
     "metadata": {},
     "output_type": "execute_result"
    }
   ],
   "source": [
    "adae['AECMFL'] = AE.AECONTRT.map(lambda x:'N' if x=='Нет' else 'Y')\n",
    "adae['AECMFL']"
   ]
  },
  {
   "cell_type": "code",
   "execution_count": 138,
   "id": "1e6a5248-caa4-47aa-af47-0cf9ce490dbd",
   "metadata": {
    "execution": {
     "iopub.execute_input": "2024-01-14T16:31:45.571248Z",
     "iopub.status.busy": "2024-01-14T16:31:45.570534Z",
     "iopub.status.idle": "2024-01-14T16:31:45.594895Z",
     "shell.execute_reply": "2024-01-14T16:31:45.594251Z",
     "shell.execute_reply.started": "2024-01-14T16:31:45.571198Z"
    }
   },
   "outputs": [
    {
     "data": {
      "text/plain": [
       "0     Европеоидная\n",
       "1     Европеоидная\n",
       "2     Европеоидная\n",
       "3     Европеоидная\n",
       "4     Европеоидная\n",
       "5     Европеоидная\n",
       "6     Европеоидная\n",
       "7     Европеоидная\n",
       "8     Европеоидная\n",
       "9     Европеоидная\n",
       "10    Европеоидная\n",
       "Name: SUBJID, dtype: object"
      ]
     },
     "execution_count": 138,
     "metadata": {},
     "output_type": "execute_result"
    }
   ],
   "source": [
    "adae['RACE']"
   ]
  },
  {
   "cell_type": "code",
   "execution_count": 139,
   "id": "18ecb5c7-957e-43aa-ae4f-fdd6854b15a8",
   "metadata": {
    "execution": {
     "iopub.execute_input": "2024-01-14T16:31:46.328441Z",
     "iopub.status.busy": "2024-01-14T16:31:46.327507Z",
     "iopub.status.idle": "2024-01-14T16:31:46.357333Z",
     "shell.execute_reply": "2024-01-14T16:31:46.356550Z",
     "shell.execute_reply.started": "2024-01-14T16:31:46.328388Z"
    }
   },
   "outputs": [
    {
     "name": "stdout",
     "output_type": "stream",
     "text": [
      "9008\n"
     ]
    },
    {
     "data": {
      "text/plain": [
       "0        Y\n",
       "1        Y\n",
       "2        Y\n",
       "3        Y\n",
       "4        Y\n",
       "5        Y\n",
       "6        Y\n",
       "7        Y\n",
       "8     None\n",
       "9        Y\n",
       "10       Y\n",
       "dtype: object"
      ]
     },
     "execution_count": 139,
     "metadata": {},
     "output_type": "execute_result"
    }
   ],
   "source": [
    "adae['TRTEMFL'] = {}\n",
    "combined = AE.merge(ADSL, on='SUBJID', how='left')\n",
    "for i in combined.index:\n",
    "    flag = 0\n",
    "    d = combined.loc[i]\n",
    "    ae_st = d.loc['AESTDTC']\n",
    "    p1_st = d.loc['AP01SDT']\n",
    "    p1_end = d.loc['AP01EDT']\n",
    "    p2_st = d.loc['AP02SDT']\n",
    "    p2_end = d.loc['AP02EDT']\n",
    "    if p1_st and p1_end:\n",
    "        if ae_st>=p1_st and ae_st<=p1_end:\n",
    "            flag = 'Y'\n",
    "        elif ae_st<p1_st:\n",
    "            print(d.SUBJID)\n",
    "            flag = None\n",
    "    else:\n",
    "        flag = None\n",
    "    if p2_st and p2_end:\n",
    "        if ae_st>=p2_st and ae_st<=p2_end:\n",
    "            flag = 'Y'\n",
    "    else:\n",
    "        flag = None\n",
    "    adae['TRTEMFL'][i] = flag\n",
    "adae['TRTEMFL'] = pd.Series(adae['TRTEMFL'])\n",
    "adae['TRTEMFL']"
   ]
  },
  {
   "cell_type": "code",
   "execution_count": 140,
   "id": "3b3f8637-6af2-4587-a774-affb5e0339f5",
   "metadata": {
    "execution": {
     "iopub.execute_input": "2024-01-14T16:31:47.445661Z",
     "iopub.status.busy": "2024-01-14T16:31:47.444935Z",
     "iopub.status.idle": "2024-01-14T16:31:47.474806Z",
     "shell.execute_reply": "2024-01-14T16:31:47.474051Z",
     "shell.execute_reply.started": "2024-01-14T16:31:47.445610Z"
    }
   },
   "outputs": [
    {
     "name": "stdout",
     "output_type": "stream",
     "text": [
      "9008\n"
     ]
    },
    {
     "data": {
      "text/plain": [
       "0     None\n",
       "1     None\n",
       "2     None\n",
       "3     None\n",
       "4     None\n",
       "5     None\n",
       "6     None\n",
       "7     None\n",
       "8        Y\n",
       "9     None\n",
       "10    None\n",
       "dtype: object"
      ]
     },
     "execution_count": 140,
     "metadata": {},
     "output_type": "execute_result"
    }
   ],
   "source": [
    "adae['PREFL'] = {}\n",
    "combined = AE.merge(ADSL, on='SUBJID', how='left')\n",
    "for i in combined.index:\n",
    "    flag = 0\n",
    "    d = combined.loc[i]\n",
    "    ae_st = d.loc['AESTDTC']\n",
    "    p1_st = d.loc['AP01SDT']\n",
    "    if p1_st:\n",
    "        if ae_st<p1_st:\n",
    "            print(d.SUBJID)\n",
    "            flag = 'Y'\n",
    "        else:\n",
    "            flag = None\n",
    "    adae['PREFL'][i] = flag\n",
    "adae['PREFL'] = pd.Series(adae['PREFL'])\n",
    "adae['PREFL']"
   ]
  },
  {
   "cell_type": "code",
   "execution_count": 141,
   "id": "86dfeaa5-7806-40df-b58e-96ab53be6877",
   "metadata": {
    "execution": {
     "iopub.execute_input": "2024-01-14T16:31:58.132683Z",
     "iopub.status.busy": "2024-01-14T16:31:58.132236Z",
     "iopub.status.idle": "2024-01-14T16:31:58.152149Z",
     "shell.execute_reply": "2024-01-14T16:31:58.151465Z",
     "shell.execute_reply.started": "2024-01-14T16:31:58.132658Z"
    }
   },
   "outputs": [
    {
     "data": {
      "text/plain": [
       "0     28.06.2023\n",
       "1     29.06.2023\n",
       "2     29.06.2023\n",
       "3     29.06.2023\n",
       "4     30.06.2023\n",
       "5     05.07.2023\n",
       "6     06.07.2023\n",
       "7     06.07.2023\n",
       "8     27.06.2023\n",
       "9     28.06.2023\n",
       "10    29.06.2023\n",
       "Name: AEENDTC, dtype: object"
      ]
     },
     "execution_count": 141,
     "metadata": {},
     "output_type": "execute_result"
    }
   ],
   "source": [
    "adae['AENDT']"
   ]
  },
  {
   "cell_type": "code",
   "execution_count": 142,
   "id": "01c83696-3b15-40c9-b537-6682929ab9eb",
   "metadata": {
    "execution": {
     "iopub.execute_input": "2024-01-14T16:31:58.798439Z",
     "iopub.status.busy": "2024-01-14T16:31:58.797735Z",
     "iopub.status.idle": "2024-01-14T16:31:58.821946Z",
     "shell.execute_reply": "2024-01-14T16:31:58.821170Z",
     "shell.execute_reply.started": "2024-01-14T16:31:58.798388Z"
    }
   },
   "outputs": [],
   "source": [
    "adae['ASTDTF'] = adae['ASTDT'].map(lambda x: np.nan)\n",
    "adae['AENDTF'] = adae['AENDT'].map(lambda x: np.nan)"
   ]
  },
  {
   "cell_type": "code",
   "execution_count": 143,
   "id": "c1dede02-0cdd-405b-8f2e-a9ece3d25387",
   "metadata": {
    "execution": {
     "iopub.execute_input": "2024-01-14T16:31:59.611646Z",
     "iopub.status.busy": "2024-01-14T16:31:59.611035Z",
     "iopub.status.idle": "2024-01-14T16:31:59.635244Z",
     "shell.execute_reply": "2024-01-14T16:31:59.634568Z",
     "shell.execute_reply.started": "2024-01-14T16:31:59.611603Z"
    }
   },
   "outputs": [
    {
     "data": {
      "text/plain": [
       "0     1\n",
       "1     1\n",
       "2     1\n",
       "3     1\n",
       "4     1\n",
       "5     1\n",
       "6     1\n",
       "7     1\n",
       "8     1\n",
       "9     1\n",
       "10    1\n",
       "dtype: int64"
      ]
     },
     "execution_count": 143,
     "metadata": {},
     "output_type": "execute_result"
    }
   ],
   "source": [
    "adae['ADURN'] = (AE.AESTDTC-AE.AEENDTC).dt.days+1\n",
    "adae['ADURN']"
   ]
  },
  {
   "cell_type": "code",
   "execution_count": 144,
   "id": "fa5580b8-35f5-4ae7-a6cc-0338eed78a33",
   "metadata": {
    "execution": {
     "iopub.execute_input": "2024-01-14T16:32:00.270199Z",
     "iopub.status.busy": "2024-01-14T16:32:00.269505Z",
     "iopub.status.idle": "2024-01-14T16:32:00.289066Z",
     "shell.execute_reply": "2024-01-14T16:32:00.288505Z",
     "shell.execute_reply.started": "2024-01-14T16:32:00.270150Z"
    }
   },
   "outputs": [
    {
     "data": {
      "text/plain": [
       "0     день\n",
       "1     день\n",
       "2     день\n",
       "3     день\n",
       "4     день\n",
       "5     день\n",
       "6     день\n",
       "7     день\n",
       "8     день\n",
       "9     день\n",
       "10    день\n",
       "dtype: object"
      ]
     },
     "execution_count": 144,
     "metadata": {},
     "output_type": "execute_result"
    }
   ],
   "source": [
    "adae['ADURU'] = adae['ADURN'].map(lambda x:'день')\n",
    "adae['ADURU']"
   ]
  },
  {
   "cell_type": "code",
   "execution_count": 145,
   "id": "1bbc3124-d8cb-4ad5-b769-3c9b8c370399",
   "metadata": {
    "execution": {
     "iopub.execute_input": "2024-01-14T16:32:01.018530Z",
     "iopub.status.busy": "2024-01-14T16:32:01.017945Z",
     "iopub.status.idle": "2024-01-14T16:32:01.041433Z",
     "shell.execute_reply": "2024-01-14T16:32:01.040919Z",
     "shell.execute_reply.started": "2024-01-14T16:32:01.018481Z"
    }
   },
   "outputs": [
    {
     "data": {
      "text/plain": [
       "0      Лечение\n",
       "1      Лечение\n",
       "2      Лечение\n",
       "3      Лечение\n",
       "4      Лечение\n",
       "5      Лечение\n",
       "6      Лечение\n",
       "7      Лечение\n",
       "8     Скрининг\n",
       "9      Лечение\n",
       "10     Лечение\n",
       "dtype: object"
      ]
     },
     "execution_count": 145,
     "metadata": {},
     "output_type": "execute_result"
    }
   ],
   "source": [
    "adae['APHASE'] = {}\n",
    "\n",
    "for i in adae['PREFL'].index:\n",
    "    if adae['PREFL'].loc[i]=='Y':\n",
    "        adae['APHASE'][i] = 'Скрининг'\n",
    "    if adae['TRTEMFL'].loc[i] =='Y':\n",
    "        adae['APHASE'][i] = 'Лечение'\n",
    "\n",
    "adae['APHASE'] = pd.Series(adae['APHASE'])\n",
    "adae['APHASE']"
   ]
  },
  {
   "cell_type": "code",
   "execution_count": 146,
   "id": "b4766c1a-109a-446f-9171-ec590a8e83d0",
   "metadata": {
    "execution": {
     "iopub.execute_input": "2024-01-14T16:32:01.798266Z",
     "iopub.status.busy": "2024-01-14T16:32:01.797488Z",
     "iopub.status.idle": "2024-01-14T16:32:16.718958Z",
     "shell.execute_reply": "2024-01-14T16:32:16.717944Z",
     "shell.execute_reply.started": "2024-01-14T16:32:01.798219Z"
    }
   },
   "outputs": [
    {
     "name": "stdin",
     "output_type": "stream",
     "text": [
      " STUDYID SUBJID USUBJID SITEID TRTSEQP TRTSEQPN AP01SDT AP01EDT AP02SDT AP02EDT AREPIOD APERIODC TRTEMFL PREFL TRTP TRTPN AESEQ  AETERM  AEBODSYS  AEDECOD AESTDTC ASTDT ASTDTF AEENDTC AENDT AENDTF AEENRTPT AEENRF ADURN ADURU AESER  APHASE  ASEV  ASEVN AEREL  AERELN RELGR1 RELGR1N AEACN AERES AERESN AECMFL SAFFL AGE SEX WEIGHT RACE\n"
     ]
    }
   ],
   "source": [
    "cols = input().split()"
   ]
  },
  {
   "cell_type": "code",
   "execution_count": 147,
   "id": "b6c9ec36-4795-4c9b-a698-a30c458c4b70",
   "metadata": {
    "execution": {
     "iopub.execute_input": "2024-01-14T16:32:16.722311Z",
     "iopub.status.busy": "2024-01-14T16:32:16.721388Z",
     "iopub.status.idle": "2024-01-14T16:32:16.740565Z",
     "shell.execute_reply": "2024-01-14T16:32:16.740096Z",
     "shell.execute_reply.started": "2024-01-14T16:32:16.722261Z"
    }
   },
   "outputs": [],
   "source": [
    "adae = pd.DataFrame(adae)"
   ]
  },
  {
   "cell_type": "code",
   "execution_count": 148,
   "id": "377839b9-7523-454c-ad38-a2f142a66e34",
   "metadata": {
    "execution": {
     "iopub.execute_input": "2024-01-14T16:32:16.741489Z",
     "iopub.status.busy": "2024-01-14T16:32:16.741219Z",
     "iopub.status.idle": "2024-01-14T16:32:16.754669Z",
     "shell.execute_reply": "2024-01-14T16:32:16.754211Z",
     "shell.execute_reply.started": "2024-01-14T16:32:16.741474Z"
    }
   },
   "outputs": [],
   "source": [
    "adae = adae[cols]"
   ]
  },
  {
   "cell_type": "code",
   "execution_count": 150,
   "id": "60ea20ee-c1c0-4fb9-bfb3-59ce086fc713",
   "metadata": {
    "execution": {
     "iopub.execute_input": "2024-01-14T16:32:50.503472Z",
     "iopub.status.busy": "2024-01-14T16:32:50.502764Z",
     "iopub.status.idle": "2024-01-14T16:32:50.550895Z",
     "shell.execute_reply": "2024-01-14T16:32:50.550377Z",
     "shell.execute_reply.started": "2024-01-14T16:32:50.503421Z"
    }
   },
   "outputs": [],
   "source": [
    "adae.to_excel('adae.xlsx', index=False)"
   ]
  },
  {
   "cell_type": "code",
   "execution_count": null,
   "id": "cda0ade0-ed7a-4c30-95bc-19af6e307165",
   "metadata": {},
   "outputs": [],
   "source": []
  },
  {
   "cell_type": "code",
   "execution_count": null,
   "id": "d50501ec-0fdc-43e5-a3b1-c3a9d1e48374",
   "metadata": {},
   "outputs": [],
   "source": []
  },
  {
   "cell_type": "code",
   "execution_count": null,
   "id": "3d7ac408-6ce6-4e28-8cf5-2b705b1217e4",
   "metadata": {},
   "outputs": [],
   "source": []
  },
  {
   "cell_type": "code",
   "execution_count": null,
   "id": "1c95d5f5-89ae-4be6-adb7-3fd07e1b5c20",
   "metadata": {},
   "outputs": [],
   "source": []
  },
  {
   "cell_type": "code",
   "execution_count": null,
   "id": "065d8f62-ee24-44f0-aca9-19441105a833",
   "metadata": {},
   "outputs": [],
   "source": []
  }
 ],
 "metadata": {
  "kernelspec": {
   "display_name": "default",
   "language": "python",
   "name": "default"
  },
  "language_info": {
   "codemirror_mode": {
    "name": "ipython",
    "version": 3
   },
   "file_extension": ".py",
   "mimetype": "text/x-python",
   "name": "python",
   "nbconvert_exporter": "python",
   "pygments_lexer": "ipython3",
   "version": "3.9.13"
  }
 },
 "nbformat": 4,
 "nbformat_minor": 5
}
